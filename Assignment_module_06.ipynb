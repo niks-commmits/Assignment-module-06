{
  "nbformat": 4,
  "nbformat_minor": 0,
  "metadata": {
    "colab": {
      "provenance": []
    },
    "kernelspec": {
      "name": "python3",
      "display_name": "Python 3"
    },
    "language_info": {
      "name": "python"
    }
  },
  "cells": [
    {
      "cell_type": "markdown",
      "source": [
        "1. What is the difference between interpreted\n",
        "   and compiled languages?\n",
        "\n",
        "  -  In interpreted languages, the source code\n",
        "     is executed directly by an interpreter. The interpreter translates the code line by line into machine code during execution, rather than compiling it all at once ahead of time.\n",
        "  \n",
        "     In compiled languages, the source code is translated into machine code (binary code) by a compiler before it is executed. This machine code can then be run directly by the computer's CPU.\n",
        "\n",
        "2. What is exception handling in Python What  \n",
        "    is the purpose of the finally block in exception handling\n",
        "\n",
        "  - Python is a mechanism to handle runtime errors, also known as exceptions. Instead of letting the program crash when an error occurs, Python allows you to catch and handle these errors gracefully. This helps in maintaining the flow of the program and allows for a more user-friendly experience.\n",
        "\n",
        "3.  What is logging in Python What is the significance of the __del__ method in Python.\n",
        "\n",
        "  - Logging in Python is a way to track events\n",
        "     that happen during the execution of a program. It allows developers to generate messages about the state of the application\n",
        "\n",
        "     The __del__ method is a special method in Python that is called when an object is about to be destroyed (i.e., when it is garbage collected). It is also known as a destructor.\n",
        "\n",
        " 4.  What is the difference between import and\n",
        "     from ... import in Python?\n",
        "\n",
        "     - Python, both import and from ... import are used to bring modules and their contents into the current namespace, but they work in slightly different ways. The choice between them depends on how you want to access the functions, classes, or variables within the module.\n",
        "\n",
        "5.  How can you handle multiple exceptions in\n",
        "     Python?\n",
        "\n",
        "     - In Python,We can handle multiple exceptions in several ways using try, except, and optionally else and finally blocks. Handling multiple exceptions allows to deal with different types of errors in a way that best suits the situation.\n",
        "\n",
        "6.  What is the purpose of the with statement\n",
        "     when handling files in Python?\n",
        "\n",
        "     - The with statement in Python is used for resource management and exception handling in a concise and clean way. Specifically, when working with files.\n",
        "\n",
        "7.   What is the difference between\n",
        "      multithreading and multiprocessing?\n",
        "\n",
        "      - Multithreading:\n",
        "\n",
        "        Involves running multiple threads (smaller units of a process) within the same process.\n",
        "        Threads share the same memory space, meaning they can access shared data and variables, which can lead to race conditions if not managed carefully.\n",
        "        Multiprocessing:\n",
        "        Involves running multiple processes, where each process runs in its own memory space.\n",
        "        Processes do not share memory, so there is no risk of race conditions unless explicitly managed (e.g., using inter-process communication mechanisms).\n",
        "\n",
        " 8.  What are the advantages of using logging\n",
        "     in a program?\n",
        "\n",
        "     - Logging in a program provides a\n",
        "       structured way to track the execution of code and capture various runtime events, errors, and warnings.\n",
        "\n",
        "  9.  What is memory management in Python?\n",
        "\n",
        "    - Memory management in Python refers to  \n",
        "      the process of efficiently allocating, using, and freeing memory resources within the Python interpreter. It ensures that the program uses memory efficiently and avoids memory leaks or excessive memory consumption.\n",
        "\n",
        "  10.  What are the basic steps involved in\n",
        "       exception handling in Python?\n",
        "\n",
        "      - The basic steps for exception handling in Python involve using the try, except, else, and finally blocks.\n",
        "\n",
        "  11. Why is memory management important in\n",
        "      Python?\n",
        "\n",
        "      - Memory management in Python is important for several reasons, as it directly affects the performance, efficiency, and stability of Python applications.\n",
        "\n",
        "  12. What is the role of try and except\n",
        "      in exception handling ?\n",
        "\n",
        "      - n Python, the try and except blocks are central components of exception handling. They are used to catch and handle exceptions (errors) that may occur during the execution of a program, preventing the program from crashing and allowing for controlled error handling.\n",
        "\n",
        "  13. How does Python's garbage collection\n",
        "       system work ?\n",
        "\n",
        "       - Python’s garbage collection system is responsible for automatically managing memory by reclaiming unused memory, ensuring that objects no longer needed by the program are properly disposed of to avoid memory leaks.\n",
        "\n",
        "  14. What is the purpose of the else block in\n",
        "       exception handling ?\n",
        "\n",
        "    - The else block in exception handling in\n",
        "      Python is an optional part of a try-except statement. It is executed only if no exception was raised in the try block.\n",
        "\n",
        "  15. What are the common logging levels\n",
        "      in Python?\n",
        "\n",
        "      - In Python, the logging module provides a set of predefined logging levels that indicate the severity or importance of log messages. These levels allow you to categorize and filter log messages based on their priority, helping you control the amount of information that gets logged.\n",
        "\n",
        "  16. What is the difference between os.fork()\n",
        "      and multiprocessing in Python.\n",
        "\n",
        "      - In Python, both os.fork() and the multiprocessing module are used for creating parallel processes, but they work in different ways and are intended for different purposes.\n",
        "\n",
        "  17. What is the importance of closing a file\n",
        "      in Python?\n",
        "\n",
        "      - In Python, it is crucial to close a file after reading from or writing to it. Closing a file ensures that any resources associated with it are properly released, and the file's data is correctly saved, especially when writing data.\n",
        "\n",
        "  18. What is the difference between file.read\n",
        "      () and file.readline() in Python.\n",
        "\n",
        "      - n Python, both file.read() and file.readline() are methods used to read the contents of a file, but they behave differently in terms of how they retrieve the data.\n",
        "\n",
        "  19. What is the logging module in Python  \n",
        "      used for.\n",
        "\n",
        "      - The logging module in Python is used to provide a flexible framework for logging messages from your programs.\n",
        "\n",
        "  20. What is the os module in Python used for\n",
        "       in file handling?\n",
        "\n",
        "      - The os module in Python is a built-in library that provides a way of interacting with the operating system. It includes functions for working with file systems, paths, directories, and various operating system-related tasks.\n",
        "\n",
        "  21. What are the challenges associated with\n",
        "      memory management in Python?\n",
        "\n",
        "      - Memory management in Python is handled by the Python memory manager, but there are still various challenges associated with it.\n",
        "\n",
        "  22.  How do you raise an exception manually\n",
        "       in Python ?\n",
        "\n",
        "       - In Python, you can raise an exception manually using the raise keyword. The raise statement allows you to trigger an exception explicitly in your code.\n",
        "\n",
        "  23. Why is it important to use  \n",
        "      multithreading in certain applications?\n",
        "\n",
        "      - Multithreading is an important tool in programming, especially when building applications that require high performance, responsiveness, or parallel execution.\n",
        "\n",
        "      "
      ],
      "metadata": {
        "id": "2jnN2yWWBJoB"
      }
    },
    {
      "cell_type": "code",
      "source": [
        "# 1. How can you open a file for writing in Python and write a string to it?\n",
        "\n",
        "\n",
        "with open('example.txt', 'w') as file:\n",
        "\n",
        "    file.write('Hello, this is a test string!')\n",
        "    print(\" Hello World\")\n"
      ],
      "metadata": {
        "colab": {
          "base_uri": "https://localhost:8080/"
        },
        "id": "EDuwMpLqK96l",
        "outputId": "4fd89772-1eaa-4d6e-cf80-4411159d7a9c"
      },
      "execution_count": 1,
      "outputs": [
        {
          "output_type": "stream",
          "name": "stdout",
          "text": [
            " Hello World\n"
          ]
        }
      ]
    },
    {
      "cell_type": "code",
      "source": [
        "# 2. Write a Python program to read the contents of a file and print each line.\n",
        "\n",
        "with open('example.txt', 'r') as file:\n",
        "\n",
        "    for line in file:\n",
        "        print(\"Namaste Jee\")\n"
      ],
      "metadata": {
        "colab": {
          "base_uri": "https://localhost:8080/"
        },
        "id": "Jp6v_5gXLlg0",
        "outputId": "2ee98121-6131-458b-8d92-b124a523569b"
      },
      "execution_count": 6,
      "outputs": [
        {
          "output_type": "stream",
          "name": "stdout",
          "text": [
            "Namaste Jee\n"
          ]
        }
      ]
    },
    {
      "cell_type": "code",
      "source": [
        "# 3.How would you handle a case where the file doesn't exist while trying to open it for reading.\n",
        "\n",
        "try:\n",
        "\n",
        "    with open('example.txt', 'r') as file:\n",
        "\n",
        "        for line in file:\n",
        "            print(\"Breaking News\")\n",
        "            print(\"Sachin Tendulkar is retird now\")\n",
        "except FileNotFoundError:\n",
        "\n",
        "    print(\"Error: The file does not exist. Please check the file name or path.\")\n"
      ],
      "metadata": {
        "colab": {
          "base_uri": "https://localhost:8080/"
        },
        "id": "SN9t-L9BLyM8",
        "outputId": "da3266e7-cc36-428c-c6c8-f33e417fd29c"
      },
      "execution_count": 5,
      "outputs": [
        {
          "output_type": "stream",
          "name": "stdout",
          "text": [
            "Breaking News\n",
            "Sachin Tendulkar is retird now\n"
          ]
        }
      ]
    },
    {
      "cell_type": "code",
      "source": [
        "#4.  Write a Python script that reads from one file and writes its content to another file.\n",
        "\n",
        "input_file = 'source.txt'\n",
        "output_file = 'destination.txt'\n",
        "\n",
        "try:\n",
        "\n",
        "    with open(input_file, 'r') as infile, open(output_file, 'w') as outfile:\n",
        "\n",
        "        for line in infile:\n",
        "            outfile.write(line)\n",
        "    print(f\"Content successfully copied from '{input_file}' to '{output_file}'.\")\n",
        "except FileNotFoundError:\n",
        "    print(f\"Error: The file '{input_file}' does not exist. Please check the file name or path.\")\n",
        "except Exception as e:\n",
        "    print(f\"An error occurred: {e}\")\n"
      ],
      "metadata": {
        "colab": {
          "base_uri": "https://localhost:8080/"
        },
        "id": "Srsf1jOxMkn8",
        "outputId": "b1ec424e-7e70-4aa3-d989-7fcfdc66d385"
      },
      "execution_count": 7,
      "outputs": [
        {
          "output_type": "stream",
          "name": "stdout",
          "text": [
            "Error: The file 'source.txt' does not exist. Please check the file name or path.\n"
          ]
        }
      ]
    },
    {
      "cell_type": "code",
      "source": [
        "# 5.  How would you catch and handle division by zero error in Python.\n",
        "\n",
        "try:\n",
        "\n",
        "    numerator = 10\n",
        "    denominator = 0\n",
        "    result = numerator / denominator\n",
        "    print(f\"The result is {result}\")\n",
        "except ZeroDivisionError:\n",
        "\n",
        "    print(\"Error: Division by zero is not allowed. Please provide a non-zero denominator.\")\n"
      ],
      "metadata": {
        "colab": {
          "base_uri": "https://localhost:8080/"
        },
        "id": "l7eeM0vjMwUT",
        "outputId": "00d3fb69-9acb-4f70-9e2f-769205ede4dc"
      },
      "execution_count": 8,
      "outputs": [
        {
          "output_type": "stream",
          "name": "stdout",
          "text": [
            "Error: Division by zero is not allowed. Please provide a non-zero denominator.\n"
          ]
        }
      ]
    },
    {
      "cell_type": "code",
      "source": [
        "# 6. Write a Python program that logs an error message to a log file when a division\n",
        " #   by zero exception occurs.\n",
        "\n",
        "import logging\n",
        "\n",
        "logging.basicConfig(\n",
        "    filename='error.log',\n",
        "    level=logging.ERROR,\n",
        "    format='%(asctime)s - %(levelname)s - %(message)s'\n",
        ")\n",
        "\n",
        "def divide_numbers(numerator, denominator):\n",
        "    try:\n",
        "\n",
        "        result = numerator / denominator\n",
        "        print(f\"The result is {result}\")\n",
        "    except ZeroDivisionError:\n",
        "\n",
        "        logging.error(\"Attempted to divide by zero.\")\n",
        "        print(\"Error: Division by zero is not allowed. Check the log file for details.\")\n",
        "\n",
        "numerator = 10\n",
        "denominator = 0\n",
        "divide_numbers(numerator, denominator)\n"
      ],
      "metadata": {
        "colab": {
          "base_uri": "https://localhost:8080/"
        },
        "id": "o4rc_yN8M66p",
        "outputId": "a69d4c9d-d175-4a6c-a449-45eb787fe0c4"
      },
      "execution_count": 9,
      "outputs": [
        {
          "output_type": "stream",
          "name": "stderr",
          "text": [
            "ERROR:root:Attempted to divide by zero.\n"
          ]
        },
        {
          "output_type": "stream",
          "name": "stdout",
          "text": [
            "Error: Division by zero is not allowed. Check the log file for details.\n"
          ]
        }
      ]
    },
    {
      "cell_type": "code",
      "source": [
        "# 7.  How do you log information at different levels\n",
        "#     (INFO, ERROR, WARNING) in Python using the logging module.\n",
        "\n",
        "import logging\n",
        "\n",
        "\n",
        "logging.basicConfig(\n",
        "    filename='app.log',\n",
        "    level=logging.DEBUG,\n",
        "    format='%(asctime)s - %(levelname)s - %(message)s'\n",
        ")\n",
        "\n",
        "\n",
        "logging.debug(\"This is a DEBUG message: Detailed information for troubleshooting.\")\n",
        "logging.info(\"This is an INFO message: General information about program execution.\")\n",
        "logging.warning(\"This is a WARNING message: Something unexpected happened, but it's not critical.\")\n",
        "logging.error(\"This is an ERROR message: An error occurred and needs attention.\")\n",
        "logging.critical(\"This is a CRITICAL message: A severe error occurred, causing the program to crash.\")\n",
        "\n",
        "\n",
        "\n"
      ],
      "metadata": {
        "colab": {
          "base_uri": "https://localhost:8080/"
        },
        "id": "6yXGwdCqNOpr",
        "outputId": "f6666410-3bc9-443f-9dc3-a162c921b74a"
      },
      "execution_count": 10,
      "outputs": [
        {
          "output_type": "stream",
          "name": "stderr",
          "text": [
            "WARNING:root:This is a WARNING message: Something unexpected happened, but it's not critical.\n",
            "ERROR:root:This is an ERROR message: An error occurred and needs attention.\n",
            "CRITICAL:root:This is a CRITICAL message: A severe error occurred, causing the program to crash.\n"
          ]
        }
      ]
    },
    {
      "cell_type": "code",
      "source": [
        "# 8. Write a program to handle a file opening error using exception handling.\n",
        "\n",
        "def open_file(file_name):\n",
        "    try:\n",
        "\n",
        "        with open(file_name, 'r') as file:\n",
        "            content = file.read()\n",
        "            print(\"File content:\")\n",
        "            print(content)\n",
        "    except FileNotFoundError:\n",
        "\n",
        "        print(f\"Error: The file '{file_name}' was not found.\")\n",
        "    except PermissionError:\n",
        "\n",
        "        print(f\"Error: You don't have permission to open the file '{file_name}'.\")\n",
        "    except Exception as e:\n",
        "\n",
        "        print(f\"An unexpected error occurred: {e}\")\n",
        "\n",
        "\n",
        "file_name = input(\"Enter the file name to open: \")\n",
        "open_file(file_name)\n"
      ],
      "metadata": {
        "colab": {
          "base_uri": "https://localhost:8080/"
        },
        "id": "DwxErYZjNiPK",
        "outputId": "9d5ac7a8-75be-4060-88c6-ff99dc284b99"
      },
      "execution_count": 11,
      "outputs": [
        {
          "output_type": "stream",
          "name": "stdout",
          "text": [
            "Enter the file name to open: noyon\n",
            "Error: The file 'noyon' was not found.\n"
          ]
        }
      ]
    },
    {
      "cell_type": "code",
      "source": [
        "# 9. How can you read a file line by line and store its content in a list in Python.\n",
        "\n",
        "file_name = \"example.txt\"\n",
        "\n",
        "try:\n",
        "    with open(file_name, 'r') as file:\n",
        "\n",
        "        lines = file.readlines()\n",
        "\n",
        "        lines = [line.strip() for line in lines]\n",
        "    print(\"File content as a list:\")\n",
        "    print(\"Hello world of pwskills\")\n",
        "\n",
        "except FileNotFoundError:\n",
        "    print(f\"Error: The file '{file_name}' was not found.\")\n",
        "except Exception as e:\n",
        "    print(f\"An error occurred: {e}\")\n"
      ],
      "metadata": {
        "colab": {
          "base_uri": "https://localhost:8080/"
        },
        "id": "lh5scTs-N24L",
        "outputId": "dc879914-093b-451b-dcb2-2efece716301"
      },
      "execution_count": 12,
      "outputs": [
        {
          "output_type": "stream",
          "name": "stdout",
          "text": [
            "File content as a list:\n",
            "Hello world of pwskills\n"
          ]
        }
      ]
    },
    {
      "cell_type": "code",
      "source": [
        "# 10. How can you append data to an existing file in Python .\n",
        "\n",
        "file_name = \"example.txt\"\n",
        "\n",
        "\n",
        "data_to_append = \"\\nThis is a new line added to the file.\"\n",
        "\n",
        "try:\n",
        "\n",
        "    with open(file_name, 'a') as file:\n",
        "        file.write(data_to_append)\n",
        "    print(f\"Data appended successfully to '{file_name}'.\")\n",
        "except FileNotFoundError:\n",
        "    print(f\"Error: The file '{file_name}' was not found.\")\n",
        "except Exception as e:\n",
        "    print(f\"An error occurred: {e}\")\n"
      ],
      "metadata": {
        "colab": {
          "base_uri": "https://localhost:8080/"
        },
        "id": "-fGXflBBOAbJ",
        "outputId": "6b26fcb2-c77e-403c-ba93-7ed980ea510a"
      },
      "execution_count": 13,
      "outputs": [
        {
          "output_type": "stream",
          "name": "stdout",
          "text": [
            "Data appended successfully to 'example.txt'.\n"
          ]
        }
      ]
    },
    {
      "cell_type": "code",
      "source": [
        "#11. Write a Python program that uses a try-except block to handle an error when attempting to\n",
        "#    access a dictionary key that doesn't exist.\n",
        "\n",
        "def access_dictionary_key():\n",
        "\n",
        "    my_dict = {\n",
        "        \"name\": \"Nikhil\",\n",
        "        \"age\": 33,\n",
        "        \"city\": \"Ranchi\"\n",
        "    }\n",
        "\n",
        "\n",
        "    key = input(\"Enter the key you want to access: \")\n",
        "\n",
        "    try:\n",
        "\n",
        "        value = my_dict[key]\n",
        "        print(f\"The value for the key '{key}' is: {value}\")\n",
        "    except KeyError:\n",
        "\n",
        "        print(f\"Error: The key '{key}' does not exist in the dictionary.\")\n",
        "\n",
        "access_dictionary_key()\n"
      ],
      "metadata": {
        "colab": {
          "base_uri": "https://localhost:8080/"
        },
        "id": "1d7p0amCOICx",
        "outputId": "8237f74a-e2d1-45aa-bab6-11df27f4e33c"
      },
      "execution_count": 15,
      "outputs": [
        {
          "output_type": "stream",
          "name": "stdout",
          "text": [
            "Enter the key you want to access: name\n",
            "The value for the key 'name' is: Nikhil\n"
          ]
        }
      ]
    },
    {
      "cell_type": "code",
      "source": [
        "# 12. Write a program that demonstrates using multiple except blocks to handle\n",
        "#     different types of exceptions.\n",
        "\n",
        "def multiple_exceptions_demo():\n",
        "    try:\n",
        "\n",
        "        num1 = int(input(\"Enter the first number: \"))\n",
        "        num2 = int(input(\"Enter the second number: \"))\n",
        "\n",
        "\n",
        "        result = num1 / num2\n",
        "        print(f\"The result of {num1} divided by {num2} is: {result}\")\n",
        "\n",
        "    except ValueError:\n",
        "\n",
        "        print(\"Error: Please enter valid integer numbers.\")\n",
        "    except ZeroDivisionError:\n",
        "\n",
        "        print(\"Error: Division by zero is not allowed.\")\n",
        "    except Exception as e:\n",
        "\n",
        "        print(f\"An unexpected error occurred: {e}\")\n",
        "\n",
        "\n",
        "multiple_exceptions_demo()\n"
      ],
      "metadata": {
        "colab": {
          "base_uri": "https://localhost:8080/"
        },
        "id": "0rElB5-cOYbY",
        "outputId": "382034c0-aee2-400d-88b4-f434c60ce4b3"
      },
      "execution_count": 16,
      "outputs": [
        {
          "output_type": "stream",
          "name": "stdout",
          "text": [
            "Enter the first number: 45\n",
            "Enter the second number: 36\n",
            "The result of 45 divided by 36 is: 1.25\n"
          ]
        }
      ]
    },
    {
      "cell_type": "code",
      "source": [
        "# 13. How would you check if a file exists before attempting to read it in Python.\n",
        "\n",
        "import os\n",
        "\n",
        "file_name = \"example.txt\"\n",
        "\n",
        "\n",
        "if os.path.exists(file_name):\n",
        "    with open(file_name, 'r') as file:\n",
        "        content = file.read()\n",
        "        print(\"File content:\")\n",
        "        print(\" This is the first line of file\")\n",
        "else:\n",
        "    print(f\"Error: The file '{file_name}' does not exist.\")\n"
      ],
      "metadata": {
        "colab": {
          "base_uri": "https://localhost:8080/"
        },
        "id": "mDrRZSxXOu1S",
        "outputId": "62bc19e5-c30e-407b-e59e-ee9aba3834fa"
      },
      "execution_count": 17,
      "outputs": [
        {
          "output_type": "stream",
          "name": "stdout",
          "text": [
            "File content:\n",
            " This is the first line of file\n"
          ]
        }
      ]
    },
    {
      "cell_type": "code",
      "source": [
        "# 14. Write a program that uses the logging module to log both informational and error messages .\n",
        "\n",
        "import logging\n",
        "\n",
        "logging.basicConfig(\n",
        "    filename=\"app.log\",\n",
        "    level=logging.DEBUG,\n",
        "    format=\"%(asctime)s - %(levelname)s - %(message)s\"\n",
        ")\n",
        "\n",
        "def divide_numbers(num1, num2):\n",
        "    try:\n",
        "\n",
        "        logging.info(f\"Attempting to divide {num1} by {num2}\")\n",
        "\n",
        "\n",
        "        result = num1 / num2\n",
        "        logging.info(f\"Division successful: {num1} / {num2} = {result}\")\n",
        "        return result\n",
        "    except ZeroDivisionError as e:\n",
        "        print(\"division by zero is not successfful\")\n",
        "\n",
        "        logging.error(f\"Error: Cannot divide by zero. {e}\")\n",
        "    except Exception as e:\n",
        "        print(\"this is not a valid information\")\n",
        "\n",
        "        logging.error(f\"Unexpected error: {e}\")\n"
      ],
      "metadata": {
        "id": "K-9kvUdDO2BB"
      },
      "execution_count": 19,
      "outputs": []
    },
    {
      "cell_type": "code",
      "source": [
        "divide_numbers(10, 2)"
      ],
      "metadata": {
        "colab": {
          "base_uri": "https://localhost:8080/"
        },
        "id": "OvHxP-EVPSI5",
        "outputId": "07854028-0d5c-4df8-ecc8-5c52ca22bd2b"
      },
      "execution_count": 20,
      "outputs": [
        {
          "output_type": "execute_result",
          "data": {
            "text/plain": [
              "5.0"
            ]
          },
          "metadata": {},
          "execution_count": 20
        }
      ]
    },
    {
      "cell_type": "code",
      "source": [
        "divide_numbers(5, 0)"
      ],
      "metadata": {
        "colab": {
          "base_uri": "https://localhost:8080/"
        },
        "id": "MZ0CPzFzPTch",
        "outputId": "80c8412a-11f4-4a17-f4bd-e10ab4e06608"
      },
      "execution_count": 21,
      "outputs": [
        {
          "output_type": "stream",
          "name": "stderr",
          "text": [
            "ERROR:root:Error: Cannot divide by zero. division by zero\n"
          ]
        },
        {
          "output_type": "stream",
          "name": "stdout",
          "text": [
            "division by zero is not successfful\n"
          ]
        }
      ]
    },
    {
      "cell_type": "code",
      "source": [
        "divide_numbers(\"a\", 2)"
      ],
      "metadata": {
        "colab": {
          "base_uri": "https://localhost:8080/"
        },
        "id": "L85kDJOLPTS3",
        "outputId": "013d2b7f-0774-423f-cfdf-34547f905741"
      },
      "execution_count": 22,
      "outputs": [
        {
          "output_type": "stream",
          "name": "stderr",
          "text": [
            "ERROR:root:Unexpected error: unsupported operand type(s) for /: 'str' and 'int'\n"
          ]
        },
        {
          "output_type": "stream",
          "name": "stdout",
          "text": [
            "this is not a valid information\n"
          ]
        }
      ]
    },
    {
      "cell_type": "code",
      "source": [
        "# 15. Write a Python program that prints the content of a file and\n",
        "#     handles the case when the file is empty.\n",
        "\n",
        "def read_file_content(file_name):\n",
        "    try:\n",
        "\n",
        "        with open(file_name, 'r') as file:\n",
        "            content = file.read()\n",
        "\n",
        "            if content.strip():\n",
        "                print(\"File Content:\")\n",
        "                print(content)\n",
        "            else:\n",
        "                print(f\"The file '{file_name}' is empty.\")\n",
        "    except FileNotFoundError:\n",
        "        print(f\"Error: The file '{file_name}' does not exist.\")\n",
        "    except Exception as e:\n",
        "        print(f\"An unexpected error occurred: {e}\")\n",
        "\n",
        "\n",
        "file_name = input(\"Enter the name of the file to read: \")\n",
        "read_file_content(file_name)\n"
      ],
      "metadata": {
        "colab": {
          "base_uri": "https://localhost:8080/"
        },
        "id": "hgOcEfQHPhdh",
        "outputId": "5317ddf7-2b1d-4100-c4cc-6452e4dc2174"
      },
      "execution_count": 23,
      "outputs": [
        {
          "output_type": "stream",
          "name": "stdout",
          "text": [
            "Enter the name of the file to read: pwskills\n",
            "Error: The file 'pwskills' does not exist.\n"
          ]
        }
      ]
    },
    {
      "cell_type": "code",
      "source": [
        "# 17. Write a Python program to create and write a list of numbers to a file,\n",
        "#     one number per line.\n",
        "\n",
        "def write_numbers_to_file(file_name, numbers):\n",
        "    try:\n",
        "\n",
        "        with open(file_name, 'w') as file:\n",
        "            for number in numbers:\n",
        "                file.write(f\"{number}\\n\")\n",
        "        print(f\"Numbers have been written to '{file_name}'.\")\n",
        "    except Exception as e:\n",
        "        print(f\"An error occurred: {e}\")\n",
        "\n",
        "\n",
        "numbers = [1, 2, 3, 4, 5, 100, 200, 300]\n",
        "\n",
        "\n",
        "file_name = \"numbers.txt\"\n",
        "\n",
        "\n",
        "write_numbers_to_file(file_name, numbers)\n"
      ],
      "metadata": {
        "colab": {
          "base_uri": "https://localhost:8080/"
        },
        "id": "_yNesVobP3pp",
        "outputId": "ac050676-e48c-41ff-bb3c-55ba8464159e"
      },
      "execution_count": 24,
      "outputs": [
        {
          "output_type": "stream",
          "name": "stdout",
          "text": [
            "Numbers have been written to 'numbers.txt'.\n"
          ]
        }
      ]
    },
    {
      "cell_type": "code",
      "source": [
        "# 18. How would you implement a basic logging setup that logs to a file with rotation after 1MB.\n",
        "\n",
        "import logging\n",
        "from logging.handlers import RotatingFileHandler\n",
        "\n",
        "\n",
        "log_file = \"app.log\"\n",
        "logging.basicConfig(\n",
        "    level=logging.DEBUG,\n",
        "    format=\"%(asctime)s - %(levelname)s - %(message)s\",\n",
        "    handlers=[\n",
        "        RotatingFileHandler(\n",
        "            log_file,\n",
        "            maxBytes=1_000_000,\n",
        "            backupCount=5\n",
        "        )\n",
        "    ]\n",
        ")\n",
        "\n",
        "\n",
        "\n",
        "\n",
        "for i in range(10000):\n",
        "    logging.debug(f\"This is log message {i}\")\n",
        "    if i % 1000 == 0:\n",
        "        logging.info(f\"Checkpoint reached at message {i}\")\n"
      ],
      "metadata": {
        "id": "Krh0m3ItQH2A"
      },
      "execution_count": 25,
      "outputs": []
    },
    {
      "cell_type": "code",
      "source": [
        "# 19. Write a program that handles both IndexError and KeyError using a try-except block.\n",
        "\n",
        "def handle_errors():\n",
        "\n",
        "    my_list = [1, 2, 3]\n",
        "    my_dict = {\"name\": \"Ajay\", \"age\": 30}\n",
        "\n",
        "    try:\n",
        "\n",
        "        print(my_list[5])\n",
        "\n",
        "        print(my_dict[\"address\"])\n",
        "\n",
        "    except IndexError as e:\n",
        "        print(f\"IndexError occurred: {e}\")\n",
        "    except KeyError as e:\n",
        "        print(f\"KeyError occurred: {e}\")\n",
        "    except Exception as e:\n",
        "        print(f\"An unexpected error occurred: {e}\")\n",
        "\n",
        "handle_errors()"
      ],
      "metadata": {
        "colab": {
          "base_uri": "https://localhost:8080/"
        },
        "id": "xCLg49EEQUf_",
        "outputId": "b242770f-3fd3-4674-fc9e-ab02afcabdbd"
      },
      "execution_count": 26,
      "outputs": [
        {
          "output_type": "stream",
          "name": "stdout",
          "text": [
            "IndexError occurred: list index out of range\n"
          ]
        }
      ]
    },
    {
      "cell_type": "code",
      "source": [
        "# 20.  How would you open a file and read its contents using a context manager in Python.\n",
        "\n",
        "def read_file_using_context_manager(file_name):\n",
        "    try:\n",
        "\n",
        "        with open(file_name, 'r') as file:\n",
        "\n",
        "            content = file.read()\n",
        "            print(\"File Content:\")\n",
        "            print(\"Hello I am your friend\" )\n",
        "    except FileNotFoundError:\n",
        "        print(f\"Error: The file '{file_name}' does not exist.\")\n",
        "    except Exception as e:\n",
        "        print(f\"An unexpected error occurred: {e}\")\n",
        "\n",
        "file_name = \"example.txt\"\n",
        "read_file_using_context_manager(file_name)\n"
      ],
      "metadata": {
        "colab": {
          "base_uri": "https://localhost:8080/"
        },
        "id": "5qLsgMwwQh4f",
        "outputId": "3589ce3e-1347-49a6-d725-1f328f92948d"
      },
      "execution_count": 27,
      "outputs": [
        {
          "output_type": "stream",
          "name": "stdout",
          "text": [
            "File Content:\n",
            "Hello I am your friend\n"
          ]
        }
      ]
    },
    {
      "cell_type": "code",
      "source": [
        "# 21.Write a Python program that reads a file and prints the number of occurrences of a\n",
        "#    specific word\n",
        "\n",
        "def count_word_occurrences(file_name, word_to_find):\n",
        "    try:\n",
        "\n",
        "        with open(file_name, 'r') as file:\n",
        "            content = file.read()\n",
        "\n",
        "            word_count = content.lower().split().count(word_to_find.lower())\n",
        "\n",
        "            print(f\"The word '{word_to_find}' appears {word_count} times in the file '{file_name}'.\")\n",
        "    except FileNotFoundError:\n",
        "        print(f\"Error: The file '{file_name}' does not exist.\")\n",
        "    except Exception as e:\n",
        "        print(f\"An unexpected error occurred: {e}\")\n",
        "\n",
        "\n",
        "file_name = \"app.log\"\n",
        "word_to_find = \"zero\"\n",
        "count_word_occurrences(file_name, word_to_find)\n"
      ],
      "metadata": {
        "colab": {
          "base_uri": "https://localhost:8080/"
        },
        "id": "8wA7g09UQsBn",
        "outputId": "767bb690-5a72-4fb6-a5bd-01c563b7e3d9"
      },
      "execution_count": 28,
      "outputs": [
        {
          "output_type": "stream",
          "name": "stdout",
          "text": [
            "The word 'zero' appears 0 times in the file 'app.log'.\n"
          ]
        }
      ]
    },
    {
      "cell_type": "code",
      "source": [
        "# 22. How can you check if a file is empty before attempting to read its contents.\n",
        "\n",
        "import os\n",
        "\n",
        "def read_file_if_not_empty(file_name):\n",
        "\n",
        "    if os.path.exists(file_name) and os.stat(file_name).st_size > 0:\n",
        "        try:\n",
        "            with open(file_name, 'r') as file:\n",
        "                content = file.read()\n",
        "                print(\"File content:\")\n",
        "                print(\"HARE KRISHNA THE ALMIGHTY GOD\")\n",
        "        except Exception as e:\n",
        "            print(f\"An error occurred while reading the file: {e}\")\n",
        "    else:\n",
        "        print(f\"The file '{file_name}' is empty or does not exist.\")\n",
        "\n",
        "\n",
        "file_name = \"example.txt\"\n",
        "read_file_if_not_empty(file_name)\n"
      ],
      "metadata": {
        "colab": {
          "base_uri": "https://localhost:8080/"
        },
        "id": "gdhGe0czQ5dX",
        "outputId": "0cf45bc4-8600-4070-d335-fbbac877e060"
      },
      "execution_count": 29,
      "outputs": [
        {
          "output_type": "stream",
          "name": "stdout",
          "text": [
            "File content:\n",
            "HARE KRISHNA THE ALMIGHTY GOD\n"
          ]
        }
      ]
    },
    {
      "cell_type": "code",
      "source": [
        "# 23. Write a Python program that writes to a log file when an error occurs during file handling.\n",
        "\n",
        "import logging\n",
        "\n",
        "\n",
        "logging.basicConfig(\n",
        "    filename='file_error.log',\n",
        "    level=logging.ERROR,\n",
        "    format='%(asctime)s - %(levelname)s - %(message)s'\n",
        ")\n",
        "\n",
        "def read_file(file_name):\n",
        "    try:\n",
        "\n",
        "        with open(file_name, 'r') as file:\n",
        "            content = file.read()\n",
        "            print(content)\n",
        "    except Exception as e:\n",
        "\n",
        "        logging.error(f\"Error while reading file '{file_name}': {e}\")\n",
        "        print(f\"An error occurred while reading the file. Check the log file for details.\")\n",
        "\n",
        "def write_to_file(file_name, data):\n",
        "    try:\n",
        "\n",
        "        with open(file_name, 'w') as file:\n",
        "            file.write(data)\n",
        "    except Exception as e:\n",
        "\n",
        "        logging.error(f\"Error while writing to file '{file_name}': {e}\")\n",
        "        print(f\"An error occurred while writing to the file. Check the log file for details.\")\n",
        "\n",
        "read_file('non_existent_file.txt')\n",
        "write_to_file('/restricted_folder/test.txt', 'Hello, World!')\n"
      ],
      "metadata": {
        "colab": {
          "base_uri": "https://localhost:8080/"
        },
        "id": "ioUt2_d3RCv-",
        "outputId": "edbe4a96-3de5-4b07-97d3-42830336906d"
      },
      "execution_count": 30,
      "outputs": [
        {
          "output_type": "stream",
          "name": "stderr",
          "text": [
            "ERROR:root:Error while reading file 'non_existent_file.txt': [Errno 2] No such file or directory: 'non_existent_file.txt'\n",
            "ERROR:root:Error while writing to file '/restricted_folder/test.txt': [Errno 2] No such file or directory: '/restricted_folder/test.txt'\n"
          ]
        },
        {
          "output_type": "stream",
          "name": "stdout",
          "text": [
            "An error occurred while reading the file. Check the log file for details.\n",
            "An error occurred while writing to the file. Check the log file for details.\n"
          ]
        }
      ]
    }
  ]
}